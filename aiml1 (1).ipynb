{
 "cells": [
  {
   "cell_type": "code",
   "execution_count": 3,
   "id": "bac523d9-ba7c-41a3-9073-f3cca1efe3dd",
   "metadata": {},
   "outputs": [],
   "source": [
    "import numpy as np"
   ]
  },
  {
   "cell_type": "code",
   "execution_count": 6,
   "id": "58d6409a-473c-4e62-a43f-652ad0fae646",
   "metadata": {},
   "outputs": [],
   "source": [
    "arr = np.array([ 1,2,3,4])"
   ]
  },
  {
   "cell_type": "code",
   "execution_count": 7,
   "id": "5420fc27-d09a-4739-b092-6f611f2ad132",
   "metadata": {},
   "outputs": [
    {
     "data": {
      "text/plain": [
       "array([1, 2, 3, 4])"
      ]
     },
     "execution_count": 7,
     "metadata": {},
     "output_type": "execute_result"
    }
   ],
   "source": [
    "arr"
   ]
  },
  {
   "cell_type": "code",
   "execution_count": 8,
   "id": "1e763f56-7dda-4819-95d6-e90a530f6ac3",
   "metadata": {},
   "outputs": [
    {
     "data": {
      "text/plain": [
       "array([[1, 2],\n",
       "       [3, 4]])"
      ]
     },
     "execution_count": 8,
     "metadata": {},
     "output_type": "execute_result"
    }
   ],
   "source": [
    "reshaped=arr.reshape(2,2)\n",
    "reshaped"
   ]
  },
  {
   "cell_type": "code",
   "execution_count": 9,
   "id": "568d8952-e7aa-4057-aa94-6f8c591ecbb5",
   "metadata": {},
   "outputs": [
    {
     "data": {
      "text/plain": [
       "array([1, 2, 3, 4])"
      ]
     },
     "execution_count": 9,
     "metadata": {},
     "output_type": "execute_result"
    }
   ],
   "source": [
    "flattend = reshaped.flatten()\n",
    "flattend"
   ]
  },
  {
   "cell_type": "code",
   "execution_count": 10,
   "id": "6b7198c0-0af2-4d2c-b27b-9139622c6199",
   "metadata": {},
   "outputs": [
    {
     "data": {
      "text/plain": [
       "array([36,  2,  3,  4])"
      ]
     },
     "execution_count": 10,
     "metadata": {},
     "output_type": "execute_result"
    }
   ],
   "source": [
    "flattend = reshaped.flatten()\n",
    "flattend[0]=36\n",
    "flattend"
   ]
  },
  {
   "cell_type": "code",
   "execution_count": 11,
   "id": "00fbbe04-0ee3-43ac-9bea-539ac31bda90",
   "metadata": {},
   "outputs": [
    {
     "data": {
      "text/plain": [
       "array([1, 2, 3, 4])"
      ]
     },
     "execution_count": 11,
     "metadata": {},
     "output_type": "execute_result"
    }
   ],
   "source": [
    "arr"
   ]
  },
  {
   "cell_type": "code",
   "execution_count": 13,
   "id": "929a8793-2a67-4a62-8377-e2e9a303a76d",
   "metadata": {},
   "outputs": [
    {
     "data": {
      "text/plain": [
       "array([ 1, 88,  3,  4])"
      ]
     },
     "execution_count": 13,
     "metadata": {},
     "output_type": "execute_result"
    }
   ],
   "source": [
    "raveled = reshaped.ravel()\n",
    "raveled[1]=88\n",
    "raveled"
   ]
  },
  {
   "cell_type": "code",
   "execution_count": 14,
   "id": "3d88ac0e-2ba6-4f34-974a-ec504d584e74",
   "metadata": {},
   "outputs": [
    {
     "data": {
      "text/plain": [
       "array([ 1, 88,  3,  4])"
      ]
     },
     "execution_count": 14,
     "metadata": {},
     "output_type": "execute_result"
    }
   ],
   "source": [
    "arr"
   ]
  },
  {
   "cell_type": "code",
   "execution_count": 15,
   "id": "8cce8079-825d-4e2c-a7a0-bbce254f201d",
   "metadata": {},
   "outputs": [
    {
     "data": {
      "text/plain": [
       "array([[ 1, 88],\n",
       "       [ 3,  4]])"
      ]
     },
     "execution_count": 15,
     "metadata": {},
     "output_type": "execute_result"
    }
   ],
   "source": [
    "reshaped"
   ]
  },
  {
   "cell_type": "code",
   "execution_count": 4,
   "id": "da9a4576-a065-4179-bc2d-183405758455",
   "metadata": {},
   "outputs": [
    {
     "name": "stdout",
     "output_type": "stream",
     "text": [
      "[1 2 3]\n",
      "[1 2 3]\n"
     ]
    }
   ],
   "source": [
    "arr1 = np.array ([1,2,3])\n",
    "print(arr1)\n",
    "arr2 = np.array ([1,2,3])\n",
    "print(arr2)"
   ]
  },
  {
   "cell_type": "code",
   "execution_count": 5,
   "id": "cb63f3d6-69fa-4379-8978-770a8ed07559",
   "metadata": {},
   "outputs": [
    {
     "data": {
      "text/plain": [
       "array([2, 4, 6])"
      ]
     },
     "execution_count": 5,
     "metadata": {},
     "output_type": "execute_result"
    }
   ],
   "source": [
    "arr1+arr2"
   ]
  },
  {
   "cell_type": "code",
   "execution_count": 6,
   "id": "87ae7b8f-5955-4407-a948-09f078c711fa",
   "metadata": {},
   "outputs": [
    {
     "data": {
      "text/plain": [
       "array([5, 6, 7])"
      ]
     },
     "execution_count": 6,
     "metadata": {},
     "output_type": "execute_result"
    }
   ],
   "source": [
    "arr1+4"
   ]
  },
  {
   "cell_type": "code",
   "execution_count": null,
   "id": "0280dc05-6f41-4dbb-899f-a651565574c6",
   "metadata": {},
   "outputs": [],
   "source": []
  }
 ],
 "metadata": {
  "kernelspec": {
   "display_name": "Python 3 (ipykernel)",
   "language": "python",
   "name": "python3"
  },
  "language_info": {
   "codemirror_mode": {
    "name": "ipython",
    "version": 3
   },
   "file_extension": ".py",
   "mimetype": "text/x-python",
   "name": "python",
   "nbconvert_exporter": "python",
   "pygments_lexer": "ipython3",
   "version": "3.13.5"
  }
 },
 "nbformat": 4,
 "nbformat_minor": 5
}
