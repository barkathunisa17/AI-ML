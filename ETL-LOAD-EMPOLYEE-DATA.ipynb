{
 "cells": [
  {
   "cell_type": "code",
   "execution_count": 1,
   "id": "9b2598f3-ba82-4d0a-94b2-077324ed550c",
   "metadata": {},
   "outputs": [],
   "source": [
    "import mysql.connector\n",
    "import csv\n",
    "import datetime"
   ]
  },
  {
   "cell_type": "code",
   "execution_count": 2,
   "id": "769593fc-729b-44d1-84a8-80896a47af77",
   "metadata": {},
   "outputs": [
    {
     "name": "stdout",
     "output_type": "stream",
     "text": [
      "MySQL connection successful: True\n"
     ]
    }
   ],
   "source": [
    "# Connect to MySQL server\n",
    "mydb = mysql.connector.connect(\n",
    "    host='localhost',\n",
    "    user='root',\n",
    "    password='Barkathunisa2006$'  # Replace with your password\n",
    ")\n",
    "\n",
    "print(\"MySQL connection successful:\", mydb.is_connected())"
   ]
  },
  {
   "cell_type": "code",
   "execution_count": 3,
   "id": "a5981c69-320f-421b-82bd-b56fe4c0775c",
   "metadata": {},
   "outputs": [
    {
     "name": "stdout",
     "output_type": "stream",
     "text": [
      "Database and table created successfully.\n"
     ]
    }
   ],
   "source": [
    "cursor = mydb.cursor()\n",
    "\n",
    "# Create database\n",
    "cursor.execute(\"CREATE DATABASE IF NOT EXISTS employee\")\n",
    "\n",
    "# Select the new database\n",
    "cursor.execute(\"USE employee\")\n",
    "\n",
    "# Create the salary table\n",
    "cursor.execute(\"\"\"\n",
    "    CREATE TABLE IF NOT EXISTS salary (\n",
    "        empid INT,\n",
    "        firstname VARCHAR(100),\n",
    "        lastname VARCHAR(100),\n",
    "        email VARCHAR(50),\n",
    "        phone VARCHAR(15),\n",
    "        hire_date DATE,\n",
    "        job_id VARCHAR(15),\n",
    "        salary INT\n",
    "    )\n",
    "\"\"\")\n",
    "\n",
    "print(\"Database and table created successfully.\")"
   ]
  },
  {
   "cell_type": "code",
   "execution_count": null,
   "id": "2ae0efac-094d-4f40-b417-e06087e18e93",
   "metadata": {},
   "outputs": [],
   "source": []
  }
 ],
 "metadata": {
  "kernelspec": {
   "display_name": "Python 3 (ipykernel)",
   "language": "python",
   "name": "python3"
  },
  "language_info": {
   "codemirror_mode": {
    "name": "ipython",
    "version": 3
   },
   "file_extension": ".py",
   "mimetype": "text/x-python",
   "name": "python",
   "nbconvert_exporter": "python",
   "pygments_lexer": "ipython3",
   "version": "3.13.5"
  }
 },
 "nbformat": 4,
 "nbformat_minor": 5
}
