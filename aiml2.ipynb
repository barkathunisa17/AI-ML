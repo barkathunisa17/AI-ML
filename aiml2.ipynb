{
 "cells": [
  {
   "cell_type": "code",
   "execution_count": 4,
   "id": "d3cf9802-6ef6-466e-8c81-203fb03a9c80",
   "metadata": {},
   "outputs": [],
   "source": [
    "import numpy as np"
   ]
  },
  {
   "cell_type": "code",
   "execution_count": 5,
   "id": "d9355750-015e-4795-9895-4c3fea647515",
   "metadata": {},
   "outputs": [],
   "source": [
    "import pandas as pd"
   ]
  },
  {
   "cell_type": "code",
   "execution_count": 6,
   "id": "c0583e57-9db4-47ba-8c8a-b3d404b32fe7",
   "metadata": {},
   "outputs": [],
   "source": [
    "np.random.seed(42)"
   ]
  },
  {
   "cell_type": "code",
   "execution_count": 7,
   "id": "e37b568f-2d49-46d7-ad2e-03e76a0c9c8e",
   "metadata": {},
   "outputs": [],
   "source": [
    "apartments=[f\"Apt_{i}\" for i in range(1,21)]"
   ]
  },
  {
   "cell_type": "code",
   "execution_count": 8,
   "id": "eaccb7ce-e888-42be-9771-eac6aaeaa5ae",
   "metadata": {},
   "outputs": [],
   "source": [
    "dates=pd.date_range(start=\"2025-07-01\",periods=30,freq=\"D\")"
   ]
  },
  {
   "cell_type": "code",
   "execution_count": 9,
   "id": "211fac4e-ff7d-43ee-ae73-d605b0657b86",
   "metadata": {},
   "outputs": [
    {
     "data": {
      "text/plain": [
       "DatetimeIndex(['2025-07-01', '2025-07-02', '2025-07-03', '2025-07-04',\n",
       "               '2025-07-05', '2025-07-06', '2025-07-07', '2025-07-08',\n",
       "               '2025-07-09', '2025-07-10', '2025-07-11', '2025-07-12',\n",
       "               '2025-07-13', '2025-07-14', '2025-07-15', '2025-07-16',\n",
       "               '2025-07-17', '2025-07-18', '2025-07-19', '2025-07-20',\n",
       "               '2025-07-21', '2025-07-22', '2025-07-23', '2025-07-24',\n",
       "               '2025-07-25', '2025-07-26', '2025-07-27', '2025-07-28',\n",
       "               '2025-07-29', '2025-07-30'],\n",
       "              dtype='datetime64[ns]', freq='D')"
      ]
     },
     "execution_count": 9,
     "metadata": {},
     "output_type": "execute_result"
    }
   ],
   "source": [
    "dates"
   ]
  },
  {
   "cell_type": "code",
   "execution_count": 10,
   "id": "e68b806c-8ac3-4401-b193-181e10c424f3",
   "metadata": {},
   "outputs": [],
   "source": [
    "data={\n",
    "    \"Date\":np.tile(dates,len(apartments)),\n",
    "    \"Apartment\":np.repeat(apartments,len(dates)),\n",
    "    \"Electricity_usage\":np.random.normal(loc=20,scale=5,size=len(dates)*len(apartments))\n",
    "}"
   ]
  },
  {
   "cell_type": "code",
   "execution_count": 11,
   "id": "91b757de-69eb-475d-a22a-40420b4e7d8e",
   "metadata": {},
   "outputs": [],
   "source": [
    "df=pd.DataFrame(data)"
   ]
  },
  {
   "cell_type": "code",
   "execution_count": 12,
   "id": "0b65f2d0-0599-4bfc-84f0-81a165ec1b44",
   "metadata": {},
   "outputs": [
    {
     "data": {
      "text/html": [
       "<div>\n",
       "<style scoped>\n",
       "    .dataframe tbody tr th:only-of-type {\n",
       "        vertical-align: middle;\n",
       "    }\n",
       "\n",
       "    .dataframe tbody tr th {\n",
       "        vertical-align: top;\n",
       "    }\n",
       "\n",
       "    .dataframe thead th {\n",
       "        text-align: right;\n",
       "    }\n",
       "</style>\n",
       "<table border=\"1\" class=\"dataframe\">\n",
       "  <thead>\n",
       "    <tr style=\"text-align: right;\">\n",
       "      <th></th>\n",
       "      <th>Date</th>\n",
       "      <th>Apartment</th>\n",
       "      <th>Electricity_usage</th>\n",
       "    </tr>\n",
       "  </thead>\n",
       "  <tbody>\n",
       "    <tr>\n",
       "      <th>0</th>\n",
       "      <td>2025-07-01</td>\n",
       "      <td>Apt_1</td>\n",
       "      <td>22.483571</td>\n",
       "    </tr>\n",
       "    <tr>\n",
       "      <th>1</th>\n",
       "      <td>2025-07-02</td>\n",
       "      <td>Apt_1</td>\n",
       "      <td>19.308678</td>\n",
       "    </tr>\n",
       "    <tr>\n",
       "      <th>2</th>\n",
       "      <td>2025-07-03</td>\n",
       "      <td>Apt_1</td>\n",
       "      <td>23.238443</td>\n",
       "    </tr>\n",
       "    <tr>\n",
       "      <th>3</th>\n",
       "      <td>2025-07-04</td>\n",
       "      <td>Apt_1</td>\n",
       "      <td>27.615149</td>\n",
       "    </tr>\n",
       "    <tr>\n",
       "      <th>4</th>\n",
       "      <td>2025-07-05</td>\n",
       "      <td>Apt_1</td>\n",
       "      <td>18.829233</td>\n",
       "    </tr>\n",
       "    <tr>\n",
       "      <th>...</th>\n",
       "      <td>...</td>\n",
       "      <td>...</td>\n",
       "      <td>...</td>\n",
       "    </tr>\n",
       "    <tr>\n",
       "      <th>595</th>\n",
       "      <td>2025-07-26</td>\n",
       "      <td>Apt_20</td>\n",
       "      <td>17.449918</td>\n",
       "    </tr>\n",
       "    <tr>\n",
       "      <th>596</th>\n",
       "      <td>2025-07-27</td>\n",
       "      <td>Apt_20</td>\n",
       "      <td>18.650625</td>\n",
       "    </tr>\n",
       "    <tr>\n",
       "      <th>597</th>\n",
       "      <td>2025-07-28</td>\n",
       "      <td>Apt_20</td>\n",
       "      <td>15.106181</td>\n",
       "    </tr>\n",
       "    <tr>\n",
       "      <th>598</th>\n",
       "      <td>2025-07-29</td>\n",
       "      <td>Apt_20</td>\n",
       "      <td>17.778534</td>\n",
       "    </tr>\n",
       "    <tr>\n",
       "      <th>599</th>\n",
       "      <td>2025-07-30</td>\n",
       "      <td>Apt_20</td>\n",
       "      <td>21.886502</td>\n",
       "    </tr>\n",
       "  </tbody>\n",
       "</table>\n",
       "<p>600 rows × 3 columns</p>\n",
       "</div>"
      ],
      "text/plain": [
       "          Date Apartment  Electricity_usage\n",
       "0   2025-07-01     Apt_1          22.483571\n",
       "1   2025-07-02     Apt_1          19.308678\n",
       "2   2025-07-03     Apt_1          23.238443\n",
       "3   2025-07-04     Apt_1          27.615149\n",
       "4   2025-07-05     Apt_1          18.829233\n",
       "..         ...       ...                ...\n",
       "595 2025-07-26    Apt_20          17.449918\n",
       "596 2025-07-27    Apt_20          18.650625\n",
       "597 2025-07-28    Apt_20          15.106181\n",
       "598 2025-07-29    Apt_20          17.778534\n",
       "599 2025-07-30    Apt_20          21.886502\n",
       "\n",
       "[600 rows x 3 columns]"
      ]
     },
     "execution_count": 12,
     "metadata": {},
     "output_type": "execute_result"
    }
   ],
   "source": [
    "df"
   ]
  },
  {
   "cell_type": "code",
   "execution_count": 13,
   "id": "1f2e62c8-e10d-4bfc-8047-6386ca82923b",
   "metadata": {},
   "outputs": [],
   "source": [
    "df[\"Electricity_usage\"]=df[\"Electricity_usage\"].round(2)"
   ]
  },
  {
   "cell_type": "code",
   "execution_count": 14,
   "id": "874a22d6-f0c3-49df-9a03-3a59e57483ae",
   "metadata": {},
   "outputs": [
    {
     "name": "stdout",
     "output_type": "stream",
     "text": [
      "Date                 0\n",
      "Apartment            0\n",
      "Electricity_usage    0\n",
      "dtype: int64\n"
     ]
    }
   ],
   "source": [
    "print(df.isnull().sum())"
   ]
  },
  {
   "cell_type": "code",
   "execution_count": 15,
   "id": "ffd331cc-4322-469a-80dd-c5c3d8a1fc51",
   "metadata": {},
   "outputs": [
    {
     "name": "stdout",
     "output_type": "stream",
     "text": [
      "                      Date  Electricity_usage\n",
      "count                  600         600.000000\n",
      "mean   2025-07-15 12:00:00          19.932500\n",
      "min    2025-07-01 00:00:00           3.790000\n",
      "25%    2025-07-08 00:00:00          16.530000\n",
      "50%    2025-07-15 12:00:00          20.040000\n",
      "75%    2025-07-23 00:00:00          23.112500\n",
      "max    2025-07-30 00:00:00          39.260000\n",
      "std                    NaN           4.861071\n"
     ]
    }
   ],
   "source": [
    "print(df.describe())"
   ]
  },
  {
   "cell_type": "code",
   "execution_count": 16,
   "id": "8f3dd705-5b4f-49f7-9edc-b9f900f45e10",
   "metadata": {},
   "outputs": [
    {
     "name": "stdout",
     "output_type": "stream",
     "text": [
      "Date                 datetime64[ns]\n",
      "Apartment                    object\n",
      "Electricity_usage           float64\n",
      "dtype: object\n"
     ]
    }
   ],
   "source": [
    "print(df.dtypes)"
   ]
  },
  {
   "cell_type": "code",
   "execution_count": 17,
   "id": "06d99824-c8a6-4159-8d89-624a555f3a70",
   "metadata": {},
   "outputs": [
    {
     "name": "stdout",
     "output_type": "stream",
     "text": [
      "Apartment\n",
      "Apt_11    642.31\n",
      "Apt_6     641.82\n",
      "Apt_13    634.22\n",
      "Apt_10    616.09\n",
      "Apt_20    613.14\n",
      "Apt_7     609.87\n",
      "Apt_8     607.18\n",
      "Apt_16    606.97\n",
      "Apt_14    604.33\n",
      "Apt_3     601.93\n",
      "Apt_4     596.99\n",
      "Apt_15    591.38\n",
      "Apt_19    586.61\n",
      "Apt_5     585.76\n",
      "Apt_2     581.81\n",
      "Apt_9     578.48\n",
      "Apt_1     571.80\n",
      "Apt_17    570.33\n",
      "Apt_12    568.99\n",
      "Apt_18    549.49\n",
      "Name: Electricity_usage, dtype: float64\n"
     ]
    }
   ],
   "source": [
    "usage_per_apartment= df.groupby(\"Apartment\")[\"Electricity_usage\"].sum().sort_values(ascending=False)\n",
    "print(usage_per_apartment)"
   ]
  },
  {
   "cell_type": "code",
   "execution_count": 18,
   "id": "12b91c9e-d217-41c1-9066-91d8f6a9bba6",
   "metadata": {},
   "outputs": [
    {
     "name": "stdout",
     "output_type": "stream",
     "text": [
      "Date\n",
      "2025-07-01    21.0440\n",
      "2025-07-02    20.8695\n",
      "2025-07-03    19.5685\n",
      "2025-07-04    20.9855\n",
      "2025-07-05    19.7835\n",
      "Name: Electricity_usage, dtype: float64\n"
     ]
    }
   ],
   "source": [
    "daily_avg=df.groupby(\"Date\")[\"Electricity_usage\"].mean()\n",
    "print(daily_avg.head())"
   ]
  },
  {
   "cell_type": "code",
   "execution_count": null,
   "id": "e1e33d7c-0630-46af-baa5-ea0fd5687531",
   "metadata": {},
   "outputs": [],
   "source": [
    "pip install seaborn"
   ]
  },
  {
   "cell_type": "code",
   "execution_count": null,
   "id": "bca9edda-6d39-4a68-8131-46d0d938b457",
   "metadata": {},
   "outputs": [],
   "source": [
    "pip install matplotlib"
   ]
  },
  {
   "cell_type": "code",
   "execution_count": null,
   "id": "1cbc7d44-6085-4ae8-9b5d-618703bc1cb2",
   "metadata": {},
   "outputs": [],
   "source": []
  }
 ],
 "metadata": {
  "kernelspec": {
   "display_name": "Python 3 (ipykernel)",
   "language": "python",
   "name": "python3"
  },
  "language_info": {
   "codemirror_mode": {
    "name": "ipython",
    "version": 3
   },
   "file_extension": ".py",
   "mimetype": "text/x-python",
   "name": "python",
   "nbconvert_exporter": "python",
   "pygments_lexer": "ipython3",
   "version": "3.13.5"
  }
 },
 "nbformat": 4,
 "nbformat_minor": 5
}
