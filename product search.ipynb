{
 "cells": [
  {
   "cell_type": "code",
   "execution_count": 5,
   "id": "ac410802-0662-4477-a5e8-2e5ffc050176",
   "metadata": {},
   "outputs": [
    {
     "name": "stdout",
     "output_type": "stream",
     "text": [
      "Requirement already satisfied: tf-keras in c:\\users\\barka\\appdata\\local\\programs\\python\\python313\\lib\\site-packages (2.15.0)\n"
     ]
    },
    {
     "name": "stderr",
     "output_type": "stream",
     "text": [
      "\n",
      "[notice] A new release of pip is available: 25.1.1 -> 25.2\n",
      "[notice] To update, run: python.exe -m pip install --upgrade pip\n"
     ]
    }
   ],
   "source": [
    "!pip install tf-keras"
   ]
  },
  {
   "cell_type": "code",
   "execution_count": 6,
   "id": "ba4d5860-0d4c-4874-a2c7-53b98a8cc724",
   "metadata": {},
   "outputs": [
    {
     "name": "stderr",
     "output_type": "stream",
     "text": [
      "Xet Storage is enabled for this repo, but the 'hf_xet' package is not installed. Falling back to regular HTTP download. For better performance, install the package with: `pip install huggingface_hub[hf_xet]` or `pip install hf_xet`\n"
     ]
    },
    {
     "name": "stdout",
     "output_type": "stream",
     "text": [
      "\n",
      " Query: sports shoes\n",
      "\n",
      "Nike Running Shoes  (score: 0.78)\n",
      "Adidas Sneakers  (score: 0.71)\n",
      "Puma Sports T-shirt  (score: 0.41)\n",
      "\n",
      " Query: latest iPhone\n",
      "\n",
      "Apple iPhone 14  (score: 0.66)\n",
      "Samsung Galaxy S23  (score: 0.38)\n",
      "Sony Headphones  (score: 0.18)\n",
      "\n",
      " Query: warm hoodie\n",
      "\n",
      "Under Armour Hoodie  (score: 0.74)\n",
      "Levi’s Jeans  (score: 0.36)\n",
      "Puma Sports T-shirt  (score: 0.31)\n"
     ]
    }
   ],
   "source": [
    "# Simple Semantic Search \n",
    "from sentence_transformers import SentenceTransformer \n",
    "from sklearn.metrics.pairwise import cosine_similarity \n",
    "import numpy as np \n",
    "# --- Step 1: Create a small product dataset --- \n",
    "products = [ \n",
    "\"Nike Running Shoes\", \n",
    "\"Adidas Sneakers\", \n",
    "\"Puma Sports T-shirt\", \n",
    "\"Apple iPhone 14\", \n",
    "\"Samsung Galaxy S23\", \n",
    "\"Sony Headphones\", \n",
    "\"Levi’s Jeans\", \n",
    "\"Under Armour Hoodie\", \n",
    "] \n",
    "# --- Step 2: Load a small pre-trained embedding model --- \n",
    "model = SentenceTransformer(\"all-MiniLM-L6-v2\") \n",
    "# --- Step 3: Convert product names into embeddings --- \n",
    "product_embeddings = model.encode(products) \n",
    "# --- Step 4: Define a search function --- \n",
    "def semantic_search(query, top_k=3): \n",
    "    # Encode the search query \n",
    "    query_embedding = model.encode([query]) \n",
    "     \n",
    "    # Compute cosine similarity \n",
    "    similarities = cosine_similarity(query_embedding, product_embeddings)[0] \n",
    "     \n",
    "    # Get top_k most similar products \n",
    "    top_indices = np.argsort(similarities)[::-1][:top_k] \n",
    "     \n",
    "    print(f\"\\n Query: {query}\\n\") \n",
    "    for idx in top_indices: \n",
    "        print(f\"{products[idx]}  (score: {similarities[idx]:.2f})\") \n",
    " \n",
    "# --- Step 5: Try searching --- \n",
    "semantic_search(\"sports shoes\") \n",
    "semantic_search(\"latest iPhone\") \n",
    "semantic_search(\"warm hoodie\") "
   ]
  },
  {
   "cell_type": "code",
   "execution_count": null,
   "id": "0f948c61-f4a6-42ef-97ad-7b76b6405e53",
   "metadata": {},
   "outputs": [],
   "source": []
  },
  {
   "cell_type": "code",
   "execution_count": null,
   "id": "1c6992b7-9fc9-4fca-bc91-12f9c8614161",
   "metadata": {},
   "outputs": [],
   "source": []
  }
 ],
 "metadata": {
  "kernelspec": {
   "display_name": "Python 3 (ipykernel)",
   "language": "python",
   "name": "python3"
  },
  "language_info": {
   "codemirror_mode": {
    "name": "ipython",
    "version": 3
   },
   "file_extension": ".py",
   "mimetype": "text/x-python",
   "name": "python",
   "nbconvert_exporter": "python",
   "pygments_lexer": "ipython3",
   "version": "3.13.5"
  }
 },
 "nbformat": 4,
 "nbformat_minor": 5
}
