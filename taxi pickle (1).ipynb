{
 "cells": [
  {
   "cell_type": "code",
   "execution_count": 38,
   "id": "84c5758c-e21e-42a4-8608-447a34441380",
   "metadata": {},
   "outputs": [],
   "source": [
    "import pandas as pd"
   ]
  },
  {
   "cell_type": "code",
   "execution_count": 39,
   "id": "b73ade9b-223f-4de0-94a2-54b9d2de0ff5",
   "metadata": {},
   "outputs": [
    {
     "data": {
      "text/html": [
       "<div>\n",
       "<style scoped>\n",
       "    .dataframe tbody tr th:only-of-type {\n",
       "        vertical-align: middle;\n",
       "    }\n",
       "\n",
       "    .dataframe tbody tr th {\n",
       "        vertical-align: top;\n",
       "    }\n",
       "\n",
       "    .dataframe thead th {\n",
       "        text-align: right;\n",
       "    }\n",
       "</style>\n",
       "<table border=\"1\" class=\"dataframe\">\n",
       "  <thead>\n",
       "    <tr style=\"text-align: right;\">\n",
       "      <th></th>\n",
       "      <th>Priceperweek</th>\n",
       "      <th>Population</th>\n",
       "      <th>Monthlyincome</th>\n",
       "      <th>Averageparkingpermonth</th>\n",
       "      <th>Numberofweeklyriders</th>\n",
       "    </tr>\n",
       "  </thead>\n",
       "  <tbody>\n",
       "    <tr>\n",
       "      <th>0</th>\n",
       "      <td>15</td>\n",
       "      <td>1800000</td>\n",
       "      <td>5800</td>\n",
       "      <td>50</td>\n",
       "      <td>192000</td>\n",
       "    </tr>\n",
       "    <tr>\n",
       "      <th>1</th>\n",
       "      <td>15</td>\n",
       "      <td>1790000</td>\n",
       "      <td>6200</td>\n",
       "      <td>50</td>\n",
       "      <td>190400</td>\n",
       "    </tr>\n",
       "    <tr>\n",
       "      <th>2</th>\n",
       "      <td>15</td>\n",
       "      <td>1780000</td>\n",
       "      <td>6400</td>\n",
       "      <td>60</td>\n",
       "      <td>191200</td>\n",
       "    </tr>\n",
       "    <tr>\n",
       "      <th>3</th>\n",
       "      <td>25</td>\n",
       "      <td>1778000</td>\n",
       "      <td>6500</td>\n",
       "      <td>60</td>\n",
       "      <td>177600</td>\n",
       "    </tr>\n",
       "    <tr>\n",
       "      <th>4</th>\n",
       "      <td>25</td>\n",
       "      <td>1750000</td>\n",
       "      <td>6550</td>\n",
       "      <td>60</td>\n",
       "      <td>176800</td>\n",
       "    </tr>\n",
       "  </tbody>\n",
       "</table>\n",
       "</div>"
      ],
      "text/plain": [
       "   Priceperweek  Population  Monthlyincome  Averageparkingpermonth  \\\n",
       "0            15     1800000           5800                      50   \n",
       "1            15     1790000           6200                      50   \n",
       "2            15     1780000           6400                      60   \n",
       "3            25     1778000           6500                      60   \n",
       "4            25     1750000           6550                      60   \n",
       "\n",
       "   Numberofweeklyriders  \n",
       "0                192000  \n",
       "1                190400  \n",
       "2                191200  \n",
       "3                177600  \n",
       "4                176800  "
      ]
     },
     "execution_count": 39,
     "metadata": {},
     "output_type": "execute_result"
    }
   ],
   "source": [
    "data = pd.read_csv('taxi.csv') \n",
    "data.head()"
   ]
  },
  {
   "cell_type": "code",
   "execution_count": 40,
   "id": "e86757aa-af06-4121-85f3-6d40b8556a73",
   "metadata": {},
   "outputs": [
    {
     "name": "stdout",
     "output_type": "stream",
     "text": [
      "Columns in your CSV file:\n",
      "- 'Priceperweek'\n",
      "- 'Population'\n",
      "- 'Monthlyincome'\n",
      "- 'Averageparkingpermonth'\n",
      "- 'Numberofweeklyriders'\n"
     ]
    }
   ],
   "source": [
    "print(\"Columns in your CSV file:\")\n",
    "for col in data.columns:\n",
    "    print(f\"- '{col}'\")"
   ]
  },
  {
   "cell_type": "code",
   "execution_count": 42,
   "id": "d6912183-6fa0-43b6-a30c-dbcd020ad82a",
   "metadata": {},
   "outputs": [],
   "source": [
    "target_col = None\n",
    "for col in data.columns:\n",
    "    if 'rider' in col.lower():  # matches things like 'numberofweeklyriders' or similar\n",
    "        target_col = col\n",
    "        break"
   ]
  },
  {
   "cell_type": "code",
   "execution_count": 43,
   "id": "0e27bfbf-a01d-4a59-9d8f-fc15caab982c",
   "metadata": {},
   "outputs": [
    {
     "name": "stdout",
     "output_type": "stream",
     "text": [
      "\n",
      "✅ Found target column: 'Numberofweeklyriders'\n"
     ]
    }
   ],
   "source": [
    "if target_col:\n",
    "    print(f\"\\n✅ Found target column: '{target_col}'\")"
   ]
  },
  {
   "cell_type": "code",
   "execution_count": 44,
   "id": "805d1039-81e2-4493-a655-0bd4d1b3157f",
   "metadata": {},
   "outputs": [],
   "source": [
    "data.columns = data.columns.str.strip()\n"
   ]
  },
  {
   "cell_type": "code",
   "execution_count": 48,
   "id": "eaad684a-fb1a-40f9-b7ca-3bcb850fbb71",
   "metadata": {},
   "outputs": [],
   "source": [
    "  x = data.drop(target_col, axis=1)\n",
    "  y = data[target_col]"
   ]
  },
  {
   "cell_type": "code",
   "execution_count": 60,
   "id": "84fa17e3-fd44-42a7-9a89-bcc225865abb",
   "metadata": {},
   "outputs": [
    {
     "name": "stdout",
     "output_type": "stream",
     "text": [
      "\n",
      " Data prepared successfully.\n",
      "Sample features (X):\n",
      "   Priceperweek  Population  Monthlyincome  Averageparkingpermonth\n",
      "0            15     1800000           5800                      50\n",
      "1            15     1790000           6200                      50\n",
      "2            15     1780000           6400                      60\n",
      "3            25     1778000           6500                      60\n",
      "4            25     1750000           6550                      60\n",
      "\n",
      "Sample target (y):\n",
      "0    192000\n",
      "1    190400\n",
      "2    191200\n",
      "3    177600\n",
      "4    176800\n",
      "Name: Numberofweeklyriders, dtype: int64\n"
     ]
    }
   ],
   "source": [
    "if target_col:\n",
    "    print(\"\\n Data prepared successfully.\")\n",
    "    print(\"Sample features (X):\")\n",
    "    print(x.head())\n",
    "\n",
    "    print(\"\\nSample target (y):\")\n",
    "    print(y.head())\n",
    "else:\n",
    "    print(\"\\n Couldn't find a column containing 'rider'. Please check your CSV file.\")\n"
   ]
  },
  {
   "cell_type": "code",
   "execution_count": 67,
   "id": "1612e3dd-cd64-459c-9cbf-7bdef237dfbc",
   "metadata": {},
   "outputs": [],
   "source": [
    "from sklearn.model_selection import train_test_split\n",
    "\n",
    "# Assuming 'target_col' is your label/target column name\n",
    "X = data.drop(target_col, axis=1)  # Features\n",
    "y = data[target_col]               # Target variable\n",
    "\n",
    "\n"
   ]
  },
  {
   "cell_type": "code",
   "execution_count": 66,
   "id": "232386ce-fbaf-4caf-be33-db6bd623bbd0",
   "metadata": {},
   "outputs": [],
   "source": [
    "X_train,x_test,y_train,y_test = train_test_split(X ,y,test_size=0.25,random_state=0) "
   ]
  },
  {
   "cell_type": "code",
   "execution_count": 68,
   "id": "816660d0-586f-4634-83aa-53a5555509fe",
   "metadata": {},
   "outputs": [],
   "source": [
    "from sklearn.linear_model import LinearRegression"
   ]
  },
  {
   "cell_type": "code",
   "execution_count": 70,
   "id": "3c9aaa05-0c82-435a-910b-8caaeef48c85",
   "metadata": {},
   "outputs": [
    {
     "name": "stdout",
     "output_type": "stream",
     "text": [
      "Training score 0.9285840543940118\n"
     ]
    }
   ],
   "source": [
    "model = LinearRegression() \n",
    "model.fit(X_train,y_train) \n",
    "print ('Training score',model.score(X_train,y_train)) "
   ]
  },
  {
   "cell_type": "code",
   "execution_count": 71,
   "id": "b2027a49-638e-40bd-89f5-677e058a7313",
   "metadata": {},
   "outputs": [],
   "source": [
    "import pickle "
   ]
  },
  {
   "cell_type": "code",
   "execution_count": 73,
   "id": "67b1cfaa-06cb-4f65-8556-c60bfd7c29e5",
   "metadata": {},
   "outputs": [],
   "source": [
    "pickle.dump(model,open('model.pkl','wb'))"
   ]
  },
  {
   "cell_type": "code",
   "execution_count": 79,
   "id": "4a4d4285-41d6-436f-af40-acb0d7eee3bf",
   "metadata": {},
   "outputs": [
    {
     "name": "stdout",
     "output_type": "stream",
     "text": [
      "['model1. predict 63 1610000 16200200']\n"
     ]
    }
   ],
   "source": [
    "model1 = pickle.load(open('model.pkl','rb')) \n",
    "print(['model1. predict 63 1610000 16200200'])"
   ]
  },
  {
   "cell_type": "code",
   "execution_count": null,
   "id": "84ae9190-0da7-47bd-91b3-f217faebb68b",
   "metadata": {},
   "outputs": [],
   "source": []
  }
 ],
 "metadata": {
  "kernelspec": {
   "display_name": "Python 3 (ipykernel)",
   "language": "python",
   "name": "python3"
  },
  "language_info": {
   "codemirror_mode": {
    "name": "ipython",
    "version": 3
   },
   "file_extension": ".py",
   "mimetype": "text/x-python",
   "name": "python",
   "nbconvert_exporter": "python",
   "pygments_lexer": "ipython3",
   "version": "3.13.5"
  }
 },
 "nbformat": 4,
 "nbformat_minor": 5
}
